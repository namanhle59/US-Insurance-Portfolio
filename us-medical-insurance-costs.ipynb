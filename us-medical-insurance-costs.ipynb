{
 "cells": [
  {
   "cell_type": "markdown",
   "metadata": {},
   "source": [
    "# U.S. Medical Insurance Costs"
   ]
  },
  {
   "cell_type": "code",
   "execution_count": 134,
   "metadata": {},
   "outputs": [],
   "source": [
    "#1. Import data set\n",
    "\n",
    "import csv\n",
    "import time\n",
    "\n",
    "with open('insurance.csv', newline='') as insurance_file:\n",
    "    new_file = csv.DictReader(insurance_file)"
   ]
  },
  {
   "cell_type": "code",
   "execution_count": 366,
   "metadata": {},
   "outputs": [],
   "source": [
    "#2. Create variables\n",
    "\n",
    "age = []\n",
    "sex = []\n",
    "bmi = []\n",
    "children = []\n",
    "smoker = []\n",
    "region = []\n",
    "charges = []\n",
    "\n",
    "# Save data to varible\n",
    "\n",
    "with open('insurance.csv') as insurance_file:\n",
    "    new_file = csv.DictReader(insurance_file)\n",
    "    for row in new_file:\n",
    "        age.append(row['age'])\n",
    "        sex.append(row['sex'])\n",
    "        bmi.append(row['bmi'])\n",
    "        children.append(row['children'])\n",
    "        smoker.append(row['smoker'])\n",
    "        region.append(row['region'])\n",
    "        charges.append(row['charges'])"
   ]
  },
  {
   "cell_type": "code",
   "execution_count": 367,
   "metadata": {
    "scrolled": true
   },
   "outputs": [],
   "source": [
    "#3. Build out analysis functions/class methods\n",
    "\n",
    "# Compare the insurance cost of male and female\n",
    "class Patientinfo():\n",
    "    def __init__(self, age, sex, bmi, children, smoker, region, charges):\n",
    "        self.age = age\n",
    "        self.sex = sex\n",
    "        self.bmi = bmi\n",
    "        self.children = children\n",
    "        self.smoker = smoker\n",
    "        self.region = region\n",
    "        self.charges = charges\n",
    "\n",
    "# a. Method that calculates the average ages of the patients in insurance.csv\n",
    "    def average_ages(self):\n",
    "        total_age = 0\n",
    "        for i in self.age:\n",
    "            total_age += int(i)\n",
    "        average_age = round(total_age/(len(self.age)),2)\n",
    "        min_age = min(self.age)\n",
    "        max_age = max(self.age)\n",
    "        print(f'The average age for people in the study is: {average_age}')\n",
    "        print(f'Minimum age is: {min_age}')\n",
    "        print(f'Maximum age is: {max_age}')\n",
    "# b. Method that calculates the number of males and females in insurance.csv\n",
    "    def gender(self):\n",
    "        male = 0\n",
    "        female = 0\n",
    "        for i in self.sex:\n",
    "            if i == 'female':\n",
    "                female += 1\n",
    "            else:\n",
    "                male +=1\n",
    "        print(f'Number of male is: {male}')\n",
    "        print(f'Number of female is: {female}')\n",
    "            \n",
    "# c. Method compare the cost for female and male\n",
    "    def gender_cost(self):\n",
    "        male_cost = []\n",
    "        female_cost = []\n",
    "        for x,y in zip(self.sex,self.charges):\n",
    "            if x == \"male\":\n",
    "                male_cost.append(float(y))\n",
    "            else:\n",
    "                female_cost.append(float(y))\n",
    "        \n",
    "        final_male = round(sum(male_cost)/len(male_cost),2)\n",
    "        final_female = round(sum(female_cost)/len(female_cost),2)\n",
    "        print(f'The average insurance cost for male is: ' +str(final_male))\n",
    "        print(f'The average insurance cost for female is: ' +str(final_female))\n",
    "                           \n",
    "            \n",
    "# d. Determine children factor on insurance cost:\n",
    "    def children_factor(self):\n",
    "        cost_no_child = []\n",
    "        cost_one_child = []\n",
    "        cost_2_child = []\n",
    "        cost_3_child = []\n",
    "        cost_4_child = []\n",
    "        cost_5_child = []\n",
    "        for x,y in zip(self.children,self.charges):\n",
    "            if x == '0':\n",
    "                cost_no_child.append(float(y))\n",
    "                cost_zero = round(sum(cost_no_child)/len(cost_no_child),2)\n",
    "        \n",
    "        print(f'The average insurance cost for people with no child is: ' +str(cost_zero))\n",
    "        \n",
    "        for x,y in zip(self.children,self.charges):\n",
    "            if x =='1':\n",
    "                cost_one_child.append(float(y))\n",
    "                cost_one = round(sum(cost_one_child)/len(cost_one_child),2)\n",
    "        print(f'The average insurance cost for people with 1 child is: ' +str(cost_one))\n",
    "        \n",
    "        for x,y in zip(self.children,self.charges):\n",
    "            if x =='2':\n",
    "                cost_2_child.append(float(y))\n",
    "                cost_2 = round(sum(cost_2_child)/len(cost_2_child),2)\n",
    "        print(f'The average insurance cost for people with 2 children is: ' +str(cost_2))\n",
    "        \n",
    "        for x,y in zip(self.children,self.charges):\n",
    "            if x =='3':\n",
    "                cost_3_child.append(float(y))\n",
    "                cost_3 = round(sum(cost_3_child)/len(cost_3_child),2)\n",
    "        print(f'The average insurance cost for people with 3 children is: ' +str(cost_3))\n",
    "        \n",
    "        for x,y in zip(self.children,self.charges):\n",
    "            if x =='4':\n",
    "                cost_4_child.append(float(y))\n",
    "                cost_4 = round(sum(cost_4_child)/len(cost_4_child),2)\n",
    "        print(f'The average insurance cost for people with 4 children is: ' +str(cost_4))\n",
    "        \n",
    "        for x,y in zip(self.children,self.charges):\n",
    "            if x =='5':\n",
    "                cost_5_child.append(float(y))\n",
    "                cost_5 = round(sum(cost_5_child)/len(cost_5_child),2)\n",
    "        print(f'The average insurance cost for people with 5 children is: ' +str(cost_5))\n",
    "       \n",
    "\n",
    "        "
   ]
  },
  {
   "cell_type": "code",
   "execution_count": 355,
   "metadata": {},
   "outputs": [],
   "source": [
    "patient_info = Patientinfo(age, sex, bmi, children, smoker, region,charges)"
   ]
  },
  {
   "cell_type": "code",
   "execution_count": 361,
   "metadata": {},
   "outputs": [
    {
     "name": "stdout",
     "output_type": "stream",
     "text": [
      "The average age for people in the study is: 39.21\n",
      "Minimum age is: 18\n",
      "Maximum age is: 64\n"
     ]
    }
   ],
   "source": [
    "patient_info.average_ages()"
   ]
  },
  {
   "cell_type": "code",
   "execution_count": 362,
   "metadata": {},
   "outputs": [
    {
     "name": "stdout",
     "output_type": "stream",
     "text": [
      "Number of male is: 676\n",
      "Number of female is: 662\n"
     ]
    }
   ],
   "source": [
    "patient_info.gender()"
   ]
  },
  {
   "cell_type": "code",
   "execution_count": 363,
   "metadata": {},
   "outputs": [
    {
     "name": "stdout",
     "output_type": "stream",
     "text": [
      "The average insurance cost for male is: 13956.75\n",
      "The average insurance cost for female is: 12569.58\n"
     ]
    }
   ],
   "source": [
    "patient_info.gender_cost()"
   ]
  },
  {
   "cell_type": "code",
   "execution_count": 364,
   "metadata": {
    "scrolled": true
   },
   "outputs": [
    {
     "name": "stdout",
     "output_type": "stream",
     "text": [
      "The average insurance cost for people with no child is: 12365.98\n",
      "The average insurance cost for people with 1 child is: 12731.17\n",
      "The average insurance cost for people with 2 children is: 15073.56\n",
      "The average insurance cost for people with 3 children is: 15355.32\n",
      "The average insurance cost for people with 4 children is: 13850.66\n",
      "The average insurance cost for people with 5 children is: 8786.04\n"
     ]
    }
   ],
   "source": [
    "patient_info.children_factor()"
   ]
  }
 ],
 "metadata": {
  "kernelspec": {
   "display_name": "Python 3",
   "language": "python",
   "name": "python3"
  },
  "language_info": {
   "codemirror_mode": {
    "name": "ipython",
    "version": 3
   },
   "file_extension": ".py",
   "mimetype": "text/x-python",
   "name": "python",
   "nbconvert_exporter": "python",
   "pygments_lexer": "ipython3",
   "version": "3.8.5"
  }
 },
 "nbformat": 4,
 "nbformat_minor": 4
}
